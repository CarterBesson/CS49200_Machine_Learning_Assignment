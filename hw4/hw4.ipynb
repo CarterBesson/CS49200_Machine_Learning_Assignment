{
  "nbformat": 4,
  "nbformat_minor": 0,
  "metadata": {
    "colab": {
      "provenance": []
    },
    "kernelspec": {
      "name": "python3",
      "display_name": "Python 3"
    },
    "language_info": {
      "name": "python"
    }
  },
  "cells": [
    {
      "cell_type": "markdown",
      "source": [],
      "metadata": {
        "id": "u3KMqn72hbLn"
      }
    },
    {
      "cell_type": "markdown",
      "source": [
        "# Part 1: Performance Measures for Evaluating a Binary Classifier  "
      ],
      "metadata": {
        "id": "ZaR99FW0hOP3"
      }
    },
    {
      "cell_type": "code",
      "source": [
        "# Generate two arrays with 10 elements and each element is randomly either 0 or 1\n",
        "# Variable \"actual\" array is referred to actual target or label\n",
        "# Variable \"predicted\" array is referred to the prediction from a machine learningn model\n",
        "\n",
        "import numpy as np\n",
        "import matplotlib.pyplot as plt\n",
        "np.random.seed(42)\n",
        "\n",
        "# Create an array of 10 random integers between 0 and 1\n",
        "actual = np.random.randint(0, 2, 10)\n",
        "\n",
        "# Create another array of 10 random integers between 0 and 1\n",
        "predicted = np.random.randint(0, 2, 10)\n",
        "\n",
        "# Print the two arrays\n",
        "print(\"Actual:\", actual)\n",
        "print(\"Predicted:\", predicted)\n"
      ],
      "metadata": {
        "colab": {
          "base_uri": "https://localhost:8080/"
        },
        "id": "FncA4xi7eQ_R",
        "outputId": "c67a5778-6c0a-4572-9a15-0c7660ae7ef6"
      },
      "execution_count": 8,
      "outputs": [
        {
          "output_type": "stream",
          "name": "stdout",
          "text": [
            "Actual: [0 1 0 0 0 1 0 0 0 1]\n",
            "Predicted: [0 0 0 0 1 0 1 1 1 0]\n"
          ]
        }
      ]
    },
    {
      "cell_type": "code",
      "source": [
        "# TODO: calculate accuracy\n",
        "# A: 0 1 0 0 0 1 0 0 0 1\n",
        "# P: 0 0 0 0 1 0 1 1 1 0\n",
        "#calculate tp & tn\n",
        "tp = 0\n",
        "tn = 0\n",
        "fp = 0\n",
        "fn = 0\n",
        "\n",
        "for i in range(len(actual)):\n",
        "  if actual[i] == predicted[i]:\n",
        "    if actual[i] == 1:\n",
        "      tp += 1\n",
        "    else:\n",
        "      tn += 1\n",
        "  else:\n",
        "    if actual[i] == 0 and predicted[i] == 1:\n",
        "      fp += 1\n",
        "    else:\n",
        "      fn += 1\n",
        "print(\"tn:\",tn)\n",
        "print(\"fp:\",fp)\n",
        "print(\"fn:\",fn)\n",
        "print(\"tp:\",tp)\n",
        "#calculate accuracy\n",
        "accuracy = (tn + tp)/(fn + tp + tn + fp)\n",
        "print(\"accuracy:\",accuracy)"
      ],
      "metadata": {
        "id": "4d9pxw63fAHZ",
        "colab": {
          "base_uri": "https://localhost:8080/"
        },
        "outputId": "f64fdf5d-9439-42af-aa35-7610e4c6ce76"
      },
      "execution_count": 9,
      "outputs": [
        {
          "output_type": "stream",
          "name": "stdout",
          "text": [
            "tn: 3\n",
            "fp: 4\n",
            "fn: 3\n",
            "tp: 0\n",
            "accuracy: 0.3\n"
          ]
        }
      ]
    },
    {
      "cell_type": "code",
      "source": [
        "# TODO: show confusion matrices\n",
        "from sklearn.metrics import confusion_matrix\n",
        "confusion_matrix(actual, predicted)\n"
      ],
      "metadata": {
        "id": "SmeGGLdCffvS",
        "colab": {
          "base_uri": "https://localhost:8080/"
        },
        "outputId": "55518695-e630-412c-9aaa-32fbd1820379"
      },
      "execution_count": 10,
      "outputs": [
        {
          "output_type": "execute_result",
          "data": {
            "text/plain": [
              "array([[3, 4],\n",
              "       [3, 0]])"
            ]
          },
          "metadata": {},
          "execution_count": 10
        }
      ]
    },
    {
      "cell_type": "code",
      "source": [
        "# TODO: show precision, recall, and F1 score\n",
        "#precision\n",
        "precision = tp/(tp - fp)\n",
        "print(\"precision:\", precision)\n",
        "\n",
        "#calculate recall\n",
        "recall = tp/(tp+fn)\n",
        "print(\"recall:\", recall)\n",
        "\n",
        "#F1 score\n",
        "f1 = tp/(tp + (((fn + fp) / 2) + tp))\n",
        "print(\"F1 score:\",f1)\n"
      ],
      "metadata": {
        "id": "OtIeOYFzgFH0",
        "colab": {
          "base_uri": "https://localhost:8080/"
        },
        "outputId": "76c1803c-6168-4d75-a963-5c55e8eaba1e"
      },
      "execution_count": 11,
      "outputs": [
        {
          "output_type": "stream",
          "name": "stdout",
          "text": [
            "precision: -0.0\n",
            "recall: 0.0\n",
            "F1 score: 0.0\n"
          ]
        }
      ]
    },
    {
      "cell_type": "code",
      "source": [
        "# TODO: show TNR, FPR, FNR, and TPR\n",
        "#TNR\n",
        "tnr = tn/(tn+fp)\n",
        "print(tnr)\n",
        "#FPR\n",
        "fpr = 1 - tnr\n",
        "print(fpr)\n",
        "#TPR\n",
        "tpr = tp/(tp + fn)\n",
        "print(tpr)\n",
        "#FNR\n",
        "fnr = 1 - tpr\n",
        "print(fnr)\n"
      ],
      "metadata": {
        "id": "cMyX-_Q-g8AS",
        "colab": {
          "base_uri": "https://localhost:8080/"
        },
        "outputId": "350e45ed-ea97-41d1-c4d0-79ac2f792912"
      },
      "execution_count": 12,
      "outputs": [
        {
          "output_type": "stream",
          "name": "stdout",
          "text": [
            "0.42857142857142855\n",
            "0.5714285714285714\n",
            "0.0\n",
            "1.0\n"
          ]
        }
      ]
    },
    {
      "cell_type": "code",
      "source": [
        "# TODO: show the precision vs. recall plot\n",
        "plt.figure(figsize =(8,6))\n",
        "plt.plot(precision, recall)\n",
        "plt.xlabel(\"precision\")\n",
        "plt.ylabel(\"recall\")\n",
        "plt.show()"
      ],
      "metadata": {
        "id": "zPK9cIcI_rJr",
        "colab": {
          "base_uri": "https://localhost:8080/",
          "height": 484
        },
        "outputId": "ba15d57a-7015-4d53-c6e1-0f8766591bd2"
      },
      "execution_count": 13,
      "outputs": [
        {
          "output_type": "display_data",
          "data": {
            "text/plain": [
              "<Figure size 800x600 with 1 Axes>"
            ],
            "image/png": "[encoded data removed]"
          },
          "metadata": {}
        }
      ]
    },
    {
      "cell_type": "code",
      "source": [
        "# TODO: show the ROC curve plot\n",
        "plt.figure(figsize=(8, 6))\n",
        "plt.plot(fpr, tpr, label='ROC Curve')\n",
        "plt.xlabel('False Positive Rate')\n",
        "plt.ylabel('True Positive Rate')\n",
        "plt.title('ROC Curve')\n",
        "plt.show()\n"
      ],
      "metadata": {
        "id": "kKp-ID6Q_rbm",
        "colab": {
          "base_uri": "https://localhost:8080/",
          "height": 503
        },
        "outputId": "46931fd2-21e2-4c39-f182-28e6b52ea8bb"
      },
      "execution_count": 16,
      "outputs": [
        {
          "output_type": "display_data",
          "data": {
            "text/plain": [
              "<Figure size 800x600 with 1 Axes>"
            ],
            "image/png": "[encoded data removed]"
          },
          "metadata": {}
        }
      ]
    },
    {
      "cell_type": "code",
      "source": [
        "# TODO: Calcuate ROC AUC score\n",
        "from sklearn.metrics import roc_auc_score\n",
        "auc = roc_auc_score(actual, predicted)\n",
        "print(auc)"
      ],
      "metadata": {
        "id": "T3rbw3Q__rov",
        "colab": {
          "base_uri": "https://localhost:8080/"
        },
        "outputId": "f8602d3f-9c06-4e5e-d344-8ff9837a417b"
      },
      "execution_count": 18,
      "outputs": [
        {
          "output_type": "stream",
          "name": "stdout",
          "text": [
            "0.2142857142857143\n"
          ]
        }
      ]
    },
    {
      "cell_type": "markdown",
      "source": [
        "# Part 2: Performance Measures for Evaluating a multiclass Classifier"
      ],
      "metadata": {
        "id": "ygLlbs6xkWMD"
      }
    },
    {
      "cell_type": "code",
      "source": [
        "# Generate two arrays with 10 elements and each element is randomly between 0 or 4\n",
        "# Variable \"actual\" array is referred to actual target or label\n",
        "# Variable \"predicted\" array is referred to the prediction from a machine learningn model\n",
        "\n",
        "import numpy as np\n",
        "\n",
        "np.random.seed(42)\n",
        "\n",
        "# Create an array of 10 random integers between 0 and 4\n",
        "actual = np.random.randint(0, 5, 10)\n",
        "\n",
        "# Create another array of 10 random integers between 0 and 4\n",
        "predicted = np.random.randint(0, 5, 10)\n",
        "\n",
        "# Print the two arrays\n",
        "print(\"Actual:\", actual)\n",
        "print(\"Predicted:\", predicted)"
      ],
      "metadata": {
        "colab": {
          "base_uri": "https://localhost:8080/"
        },
        "id": "Cvogp-H8kicW",
        "outputId": "8720f69e-fbb0-4e25-ca5d-f58b0cc37cd5"
      },
      "execution_count": 30,
      "outputs": [
        {
          "output_type": "stream",
          "name": "stdout",
          "text": [
            "Actual: [3 4 2 4 4 1 2 2 2 4]\n",
            "Predicted: [3 2 4 1 3 1 3 4 0 3]\n"
          ]
        }
      ]
    },
    {
      "cell_type": "code",
      "source": [
        "# TODO: show confusion matrix\n",
        "confusion_matrix(actual, predicted)\n"
      ],
      "metadata": {
        "id": "WdgDpGSvlCDu",
        "colab": {
          "base_uri": "https://localhost:8080/"
        },
        "outputId": "c280c020-7cfa-4f6f-924c-bd3b9b17680d"
      },
      "execution_count": 31,
      "outputs": [
        {
          "output_type": "execute_result",
          "data": {
            "text/plain": [
              "array([[0, 0, 0, 0, 0],\n",
              "       [0, 1, 0, 0, 0],\n",
              "       [1, 0, 0, 1, 2],\n",
              "       [0, 0, 0, 1, 0],\n",
              "       [0, 1, 1, 2, 0]])"
            ]
          },
          "metadata": {},
          "execution_count": 31
        }
      ]
    },
    {
      "cell_type": "code",
      "source": [
        "# TODO: show confusion matrix with errors only and errors normalized by row\n",
        "from sklearn.metrics import ConfusionMatrixDisplay\n",
        "\n",
        "ConfusionMatrixDisplay.from_predictions(actual, predicted, normalize=\"true\")\n"
      ],
      "metadata": {
        "id": "BDqyIDvSmQA_",
        "colab": {
          "base_uri": "https://localhost:8080/",
          "height": 489
        },
        "outputId": "bd15255f-fb88-487a-a551-bd4bddda0020"
      },
      "execution_count": 22,
      "outputs": [
        {
          "output_type": "execute_result",
          "data": {
            "text/plain": [
              "<sklearn.metrics._plot.confusion_matrix.ConfusionMatrixDisplay at 0x7999738693f0>"
            ]
          },
          "metadata": {},
          "execution_count": 22
        },
        {
          "output_type": "display_data",
          "data": {
            "text/plain": [
              "<Figure size 640x480 with 2 Axes>"
            ],
            "image/png": "[encoded data removed]"
          },
          "metadata": {}
        }
      ]
    }
  ]
}