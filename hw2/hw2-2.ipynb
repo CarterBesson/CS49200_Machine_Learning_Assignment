{
  "nbformat": 4,
  "nbformat_minor": 0,
  "metadata": {
    "colab": {
      "provenance": [],
      "gpuType": "T4"
    },
    "kernelspec": {
      "name": "python3",
      "display_name": "Python 3"
    },
    "language_info": {
      "name": "python"
    },
    "accelerator": "GPU"
  },
  "cells": [
    {
      "cell_type": "markdown",
      "source": [
        "# HW 2 (CS492 Machine Learning)"
      ],
      "metadata": {
        "id": "YEJDm5_NK4my"
      }
    },
    {
      "cell_type": "code",
      "execution_count": null,
      "metadata": {
        "id": "A23kAFAHslQz"
      },
      "outputs": [],
      "source": [
        "# Part 1: Implement a function get_primes() that finds all prime numbers between\n",
        "# a lower bound and a upper bound (inclusive).\n",
        "# For example, if lower = 1, upper = 10, it returns [2, 3, 5, 7].\n",
        "\n",
        "# TODO: implement get_primes() function\n",
        "def get_primes(lower, upper):\n",
        "  primes = []\n",
        "  for num in range(lower, upper+1):\n",
        "    if num > 1:\n",
        "      is_prime = True\n",
        "      for i in range(2,(num//2)+1):\n",
        "        if num % i == 0:\n",
        "          is_prime = False\n",
        "          break\n",
        "      if is_prime == True:\n",
        "        primes.append(num)\n",
        "  return primes"
      ]
    },
    {
      "cell_type": "code",
      "source": [
        "print(get_primes(1, 100))\n",
        "print(get_primes(1, 2))\n",
        "print(get_primes(2, 1))\n",
        "print(get_primes(2, 2))\n",
        "print(get_primes(-20, 5))"
      ],
      "metadata": {
        "id": "8JnSF-5kLQrM",
        "colab": {
          "base_uri": "https://localhost:8080/"
        },
        "outputId": "47ff1da5-4117-40fa-83b3-2171928f426c"
      },
      "execution_count": null,
      "outputs": [
        {
          "output_type": "stream",
          "name": "stdout",
          "text": [
            "[2, 3, 5, 7, 11, 13, 17, 19, 23, 29, 31, 37, 41, 43, 47, 53, 59, 61, 67, 71, 73, 79, 83, 89, 97]\n",
            "[2]\n",
            "[]\n",
            "[2]\n",
            "[2, 3, 5]\n"
          ]
        }
      ]
    },
    {
      "cell_type": "code",
      "source": [
        "# Part 2: Implement a function find_item_sorted_array() that finds\n",
        "# if an given item is in a sorted array or not, by using binary search.\n",
        "# For example, if array = [1, 2, 3] and item = 2, it returns 1.\n",
        "# If array = [1, 2, 3] and item = 4, it returns -1.\n",
        "\n",
        "# TODO: implement find_item_sorted_array() function\n",
        "def find_item_sorted_array(array, item) :\n",
        "  left = 0\n",
        "  right = len(array)\n",
        "\n",
        "  while left < right:\n",
        "    mid = (left + right)//2\n",
        "\n",
        "    if array[mid] == item:\n",
        "      return mid\n",
        "    elif array[mid] < item:\n",
        "      left = mid + 1\n",
        "    else:\n",
        "      right = mid - 1\n",
        "\n",
        "  return -1\n",
        "\n",
        "\n"
      ],
      "metadata": {
        "id": "N3TBkVtiNHlN"
      },
      "execution_count": null,
      "outputs": []
    },
    {
      "cell_type": "code",
      "source": [
        "print(find_item_sorted_array([1, 2, 3, 4, 5], 0))\n",
        "print(find_item_sorted_array([1, 2, 3, 4, 5], 1))\n",
        "print(find_item_sorted_array([1, 2, 3, 4, 5], 3))\n",
        "print(find_item_sorted_array([1, 2, 3, 4, 5], 5))\n",
        "print(find_item_sorted_array([1, 2, 3, 4, 5], 6))"
      ],
      "metadata": {
        "id": "xinoI80qNwNH",
        "colab": {
          "base_uri": "https://localhost:8080/"
        },
        "outputId": "a31eac7f-b0aa-45ec-df30-1d99a948af1d"
      },
      "execution_count": null,
      "outputs": [
        {
          "output_type": "stream",
          "name": "stdout",
          "text": [
            "-1\n",
            "0\n",
            "2\n",
            "4\n",
            "-1\n"
          ]
        }
      ]
    },
    {
      "cell_type": "code",
      "source": [
        "# Part 3: Run flask web applicaiton at Google Colab.\n",
        "\n",
        "# TODO: install missing modules\n",
        "!pip install Flask\n",
        "!pip install pyngrok"
      ],
      "metadata": {
        "id": "TWD0tXACRlZj",
        "colab": {
          "base_uri": "https://localhost:8080/"
        },
        "outputId": "3a224866-4a1c-49c2-b8c6-d582c9e70f0d"
      },
      "execution_count": 19,
      "outputs": [
        {
          "output_type": "stream",
          "name": "stdout",
          "text": [
            "Requirement already satisfied: Flask in /usr/local/lib/python3.10/dist-packages (2.2.5)\n",
            "Requirement already satisfied: Werkzeug>=2.2.2 in /usr/local/lib/python3.10/dist-packages (from Flask) (3.0.1)\n",
            "Requirement already satisfied: Jinja2>=3.0 in /usr/local/lib/python3.10/dist-packages (from Flask) (3.1.3)\n",
            "Requirement already satisfied: itsdangerous>=2.0 in /usr/local/lib/python3.10/dist-packages (from Flask) (2.1.2)\n",
            "Requirement already satisfied: click>=8.0 in /usr/local/lib/python3.10/dist-packages (from Flask) (8.1.7)\n",
            "Requirement already satisfied: MarkupSafe>=2.0 in /usr/local/lib/python3.10/dist-packages (from Jinja2>=3.0->Flask) (2.1.4)\n",
            "Requirement already satisfied: pyngrok in /usr/local/lib/python3.10/dist-packages (7.0.5)\n",
            "Requirement already satisfied: PyYAML in /usr/local/lib/python3.10/dist-packages (from pyngrok) (6.0.1)\n"
          ]
        }
      ]
    },
    {
      "cell_type": "code",
      "source": [
        "# The following code is from https://pyngrok.readthedocs.io/en/latest/integrations.html#colab-http-example.\n",
        "# TODO: Change the following code, run it,\n",
        "#       and show that it can show \"Hello Machine Learning from YOUR NAME!\" at a live web page.\n",
        "\n",
        "import getpass\n",
        "import os\n",
        "import threading\n",
        "\n",
        "from flask import Flask\n",
        "from pyngrok import ngrok, conf\n",
        "\n",
        "print(\"Enter your authtoken, which can be copied from https://dashboard.ngrok.com/get-started/your-authtoken\")\n",
        "conf.get_default().auth_token = getpass.getpass()\n",
        "\n",
        "app = Flask(__name__)\n",
        "\n",
        "# Open a ngrok tunnel to the HTTP server\n",
        "public_url = ngrok.connect(5000).public_url\n",
        "print(\" * ngrok tunnel \\\"{}\\\" -> \\\"http://127.0.0.1:{}/\\\"\".format(public_url, 5000))\n",
        "\n",
        "# Update any base URLs to use the public ngrok URL\n",
        "app.config[\"BASE_URL\"] = public_url\n",
        "\n",
        "# ... Update inbound traffic via APIs to use the public-facing ngrok URL\n",
        "\n",
        "\n",
        "# Define Flask routes\n",
        "@app.route(\"/\")\n",
        "def index():\n",
        "    return \"Hello Machine Learning from Carter Besson!\"\n",
        "\n",
        "# Start the Flask server in a new thread\n",
        "threading.Thread(target=app.run, kwargs={\"use_reloader\": False}).start()"
      ],
      "metadata": {
        "id": "6YCdwfelQmNL",
        "colab": {
          "base_uri": "https://localhost:8080/"
        },
        "outputId": "95f6c36e-8f78-49e5-e92b-55c7cd903603"
      },
      "execution_count": 24,
      "outputs": [
        {
          "output_type": "stream",
          "name": "stdout",
          "text": [
            "Enter your authtoken, which can be copied from https://dashboard.ngrok.com/get-started/your-authtoken\n",
            "··········\n",
            " * ngrok tunnel \"https://e022-34-171-156-43.ngrok-free.app\" -> \"http://127.0.0.1:5000/\"\n",
            " * Serving Flask app '__main__'\n",
            " * Debug mode: off\n"
          ]
        }
      ]
    }
  ]
}